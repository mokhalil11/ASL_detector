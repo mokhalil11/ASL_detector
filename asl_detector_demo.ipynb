{
  "nbformat": 4,
  "nbformat_minor": 0,
  "metadata": {
    "colab": {
      "provenance": [],
      "gpuType": "T4"
    },
    "kernelspec": {
      "name": "python3",
      "display_name": "Python 3"
    },
    "language_info": {
      "name": "python"
    },
    "accelerator": "GPU"
  },
  "cells": [
    {
      "cell_type": "markdown",
      "source": [
        "# **Install Requirements**"
      ],
      "metadata": {
        "id": "VnY3e7hQSmZw"
      }
    },
    {
      "cell_type": "code",
      "execution_count": null,
      "metadata": {
        "id": "7M_z-nJ5Rjmt"
      },
      "outputs": [],
      "source": [
        "#clone YOLOv5 repo\n",
        "!git clone https://github.com/ultralytics/yolov5\n",
        "%cd yolov5\n",
        "%pip install -qr requirements.txt # install dependencies\n",
        "%pip install -q roboflow\n",
        "\n",
        "import torch\n",
        "import os\n",
        "from IPython.display import Image, clear_output\n",
        "\n",
        "print(f\"Setup complete. Using torch {torch.__version__} ({torch.cuda.get_device_properties(0).name if torch.cuda.is_available() else 'CPU'})\")"
      ]
    },
    {
      "cell_type": "markdown",
      "source": [
        "# **Get our dataset**"
      ],
      "metadata": {
        "id": "v-sDtXc3SWNd"
      }
    },
    {
      "cell_type": "code",
      "source": [
        "# set up environment\n",
        "os.environ[\"DATASET_DIRECTORY\"] = \"/content/datasets\"\n",
        "# then go to the following link \"https://public.roboflow.com/object-detection/american-sign-language-letters\" to get your dataset from roboflow in the following format\n",
        "#from roboflow import Roboflow\n",
        "#rf = Roboflow(api_key=\"YOUR API KEY HERE\")\n",
        "#project = rf.workspace().project(\"YOUR PROJECT\")\n",
        "#dataset = project.version(\"YOUR VERSION\").download(\"yolov5\")\n"
      ],
      "metadata": {
        "id": "jX76xKK7TWG_"
      },
      "execution_count": null,
      "outputs": []
    },
    {
      "cell_type": "markdown",
      "source": [
        "# **Train your model**"
      ],
      "metadata": {
        "id": "XPau9_kdVAN5"
      }
    },
    {
      "cell_type": "code",
      "source": [
        "!python train.py --img 416 --batch 16 --epochs 150 --data {dataset.location}/data.yaml --weights yolov5s.pt --cache"
      ],
      "metadata": {
        "id": "GUB_AzDtVFvX"
      },
      "execution_count": null,
      "outputs": []
    },
    {
      "cell_type": "markdown",
      "source": [
        "# **Test your model**"
      ],
      "metadata": {
        "id": "Ow9K8aIGVjwy"
      }
    },
    {
      "cell_type": "code",
      "source": [
        "!python \"path of your detect.py file\" --weights \"path of your best.pt file aka your weights\" --source 0\n",
        "# In sourse there can be multiple values here 0 means webcam , these are all the testing options you can use\n",
        "                                                      #0                               # webcam\n",
        "                                                      #img.jpg                         # image\n",
        "                                                      #vid.mp4                         # video\n",
        "                                                      #screen                          # screenshot\n",
        "                                                      #path/                           # directory\n",
        "                                                      #list.txt                        # list of images\n",
        "                                                      #list.streams                    # list of streams\n",
        "                                                      #'path/*.jpg'                    # glob\n",
        "                                                      #'https://youtu.be/LNwODJXcvt4'  # YouTube\n",
        "                                                      #'rtsp://example.com/media.mp4'  # RTSP, RTMP, HTTP stream\n",
        "# In order to use webcam for testing you should open jupyter notebook locally as colab doesn't have access to your hardware"
      ],
      "metadata": {
        "id": "_uMuPqU3Votg"
      },
      "execution_count": null,
      "outputs": []
    }
  ]
}